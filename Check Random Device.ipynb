{
 "cells": [
  {
   "cell_type": "markdown",
   "metadata": {},
   "source": [
    "## Notebook to check that randomly generated numbers are indeed random"
   ]
  },
  {
   "cell_type": "markdown",
   "metadata": {},
   "source": [
    "The C++ code used to generate the random numbers is:\n",
    "```c++\n",
    "std::random_device rd; // create random device to seed generator\n",
    "std::mt19937 gen(rd()); // create generator with random seed\n",
    "std::uniform_real_distribution<long double> uni(0.,1); // init uniform dist on (0,1]\n",
    "\n",
    "std::ofstream data_file(\"data.txt\");\n",
    "data_file << \"Step\\t\" << \"value\" << std::endl;\n",
    "\n",
    "while(current_step < max_steps){\n",
    "    r = uni(gen);\n",
    "    data_file << current_step << \"\\t\" << r << std::endl;\n",
    "    current_step++;\n",
    "}\n",
    "\n",
    "data_file.close();\n",
    "```"
   ]
  },
  {
   "cell_type": "code",
   "execution_count": 9,
   "metadata": {},
   "outputs": [
    {
     "data": {
      "image/png": "[encoded data removed]",
      "text/plain": [
       "<matplotlib.figure.Figure at 0x113091fd0>"
      ]
     },
     "metadata": {},
     "output_type": "display_data"
    }
   ],
   "source": [
    "import numpy as np\n",
    "import pandas as pd\n",
    "import matplotlib.pyplot as plt\n",
    "import seaborn as sns\n",
    "%matplotlib inline\n",
    "\n",
    "data = pd.read_table('data.txt',sep='\\t')\n",
    "data\n",
    "\n",
    "plt.hist(data['value'],bins=100)\n",
    "plt.title('N = '+str(np.size(data.index)))\n",
    "plt.show()"
   ]
  },
  {
   "cell_type": "markdown",
   "metadata": {},
   "source": [
    "## The generator appears to be working well."
   ]
  },
  {
   "cell_type": "code",
   "execution_count": null,
   "metadata": {
    "collapsed": true
   },
   "outputs": [],
   "source": []
  }
 ],
 "metadata": {
  "kernelspec": {
   "display_name": "Python 2",
   "language": "python",
   "name": "python2"
  },
  "language_info": {
   "codemirror_mode": {
    "name": "ipython",
    "version": 2
   },
   "file_extension": ".py",
   "mimetype": "text/x-python",
   "name": "python",
   "nbconvert_exporter": "python",
   "pygments_lexer": "ipython2",
   "version": "2.7.13"
  }
 },
 "nbformat": 4,
 "nbformat_minor": 2
}
