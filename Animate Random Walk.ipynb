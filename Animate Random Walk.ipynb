{
 "cells": [
  {
   "cell_type": "markdown",
   "metadata": {},
   "source": [
    "# Notebook to visualize random walk\n",
    "- L = 4 in this case"
   ]
  },
  {
   "cell_type": "code",
   "execution_count": 3,
   "metadata": {},
   "outputs": [
    {
     "name": "stdout",
     "output_type": "stream",
     "text": [
      "Done\n"
     ]
    }
   ],
   "source": [
    "import numpy as np\n",
    "import pandas as pd\n",
    "import matplotlib.pyplot as plt\n",
    "import seaborn as sns\n",
    "#%matplotlib inline\n",
    "\n",
    "L = 4\n",
    "data = pd.read_table('4x4_data.txt',sep='\\t')\n",
    "for i in data.index:\n",
    "    \n",
    "    # Draw domain\n",
    "    plt.plot((-L/2,-L/2),(0,L),linestyle='--',color='black',alpha=0.5)\n",
    "    plt.plot((L/2,L/2),(0,L),linestyle='--',color='black',alpha=0.5)\n",
    "    plt.plot((-L/2,L/2),(0,0),linestyle='--',color='black',alpha=0.5)\n",
    "    plt.plot((-L/2,L/2),(L,L),linestyle='--',color='black',alpha=0.5)\n",
    "\n",
    "    plt.scatter(0,0,marker='x',color='black',s=100)\n",
    "    plt.xticks(np.arange(-L/2,L/2+1))\n",
    "    plt.yticks(np.arange(0,L+1))\n",
    "    plt.axis('equal')\n",
    "    \n",
    "    # Plot location\n",
    "    plt.scatter(data['x'][i],data['y'][i],s=100)\n",
    "    \n",
    "    plt.xlim((-L/2-0.5,L/2+0.5))\n",
    "    plt.ylim((-0.5,L+0.5)) \n",
    "    \n",
    "    # Save and clear\n",
    "    fname = ('plot' + '_%06d.pdf' % (i))  # assign filename\n",
    "    plt.title('Bounded Random Walk on '+str(L)+'x'+str(L)+' Lattice')\n",
    "    plt.savefig('plots/'+fname)\n",
    "    plt.cla()\n",
    "    \n",
    "print 'Done'"
   ]
  },
  {
   "cell_type": "code",
   "execution_count": 4,
   "metadata": {},
   "outputs": [
    {
     "name": "stdout",
     "output_type": "stream",
     "text": [
      "Done\n"
     ]
    }
   ],
   "source": [
    "!convert -delay 40 plots/* sim.gif\n",
    "print 'Done'"
   ]
  },
  {
   "cell_type": "code",
   "execution_count": null,
   "metadata": {
    "collapsed": true
   },
   "outputs": [],
   "source": []
  }
 ],
 "metadata": {
  "kernelspec": {
   "display_name": "Python 2",
   "language": "python",
   "name": "python2"
  },
  "language_info": {
   "codemirror_mode": {
    "name": "ipython",
    "version": 2
   },
   "file_extension": ".py",
   "mimetype": "text/x-python",
   "name": "python",
   "nbconvert_exporter": "python",
   "pygments_lexer": "ipython2",
   "version": "2.7.13"
  }
 },
 "nbformat": 4,
 "nbformat_minor": 2
}
